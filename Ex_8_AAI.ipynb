{
 "cells": [
  {
   "cell_type": "code",
   "execution_count": 1,
   "metadata": {
    "colab": {
     "base_uri": "https://localhost:8080/"
    },
    "id": "FsOswwkxzmUF",
    "outputId": "7f2a32f0-f03b-43f9-9d28-18d82bcfb0c3"
   },
   "outputs": [
    {
     "name": "stdout",
     "output_type": "stream",
     "text": [
      "Collecting SpeechRecognition\n",
      "  Downloading SpeechRecognition-3.11.0-py2.py3-none-any.whl.metadata (28 kB)\n",
      "Requirement already satisfied: requests>=2.26.0 in c:\\users\\shafe\\anaconda3\\envs\\ml\\lib\\site-packages (from SpeechRecognition) (2.32.2)\n",
      "Requirement already satisfied: typing-extensions in c:\\users\\shafe\\anaconda3\\envs\\ml\\lib\\site-packages (from SpeechRecognition) (4.11.0)\n",
      "Requirement already satisfied: charset-normalizer<4,>=2 in c:\\users\\shafe\\anaconda3\\envs\\ml\\lib\\site-packages (from requests>=2.26.0->SpeechRecognition) (2.0.4)\n",
      "Requirement already satisfied: idna<4,>=2.5 in c:\\users\\shafe\\anaconda3\\envs\\ml\\lib\\site-packages (from requests>=2.26.0->SpeechRecognition) (3.7)\n",
      "Requirement already satisfied: urllib3<3,>=1.21.1 in c:\\users\\shafe\\anaconda3\\envs\\ml\\lib\\site-packages (from requests>=2.26.0->SpeechRecognition) (2.2.1)\n",
      "Requirement already satisfied: certifi>=2017.4.17 in c:\\users\\shafe\\anaconda3\\envs\\ml\\lib\\site-packages (from requests>=2.26.0->SpeechRecognition) (2024.6.2)\n",
      "Downloading SpeechRecognition-3.11.0-py2.py3-none-any.whl (32.8 MB)\n",
      "   ---------------------------------------- 0.0/32.8 MB ? eta -:--:--\n",
      "   ---------------------------------------- 0.1/32.8 MB 4.0 MB/s eta 0:00:09\n",
      "   ---------------------------------------- 0.4/32.8 MB 6.3 MB/s eta 0:00:06\n",
      "    --------------------------------------- 0.6/32.8 MB 5.4 MB/s eta 0:00:07\n",
      "   - -------------------------------------- 1.2/32.8 MB 7.9 MB/s eta 0:00:05\n",
      "   -- ------------------------------------- 2.1/32.8 MB 10.1 MB/s eta 0:00:04\n",
      "   --- ------------------------------------ 3.2/32.8 MB 12.7 MB/s eta 0:00:03\n",
      "   ----- ---------------------------------- 4.3/32.8 MB 14.4 MB/s eta 0:00:02\n",
      "   ------ --------------------------------- 5.3/32.8 MB 14.6 MB/s eta 0:00:02\n",
      "   ------- -------------------------------- 6.6/32.8 MB 16.1 MB/s eta 0:00:02\n",
      "   --------- ------------------------------ 7.5/32.8 MB 16.6 MB/s eta 0:00:02\n",
      "   ---------- ----------------------------- 8.6/32.8 MB 17.1 MB/s eta 0:00:02\n",
      "   ---------- ----------------------------- 8.9/32.8 MB 16.2 MB/s eta 0:00:02\n",
      "   ------------ --------------------------- 10.2/32.8 MB 16.7 MB/s eta 0:00:02\n",
      "   ------------- -------------------------- 11.3/32.8 MB 20.5 MB/s eta 0:00:02\n",
      "   --------------- ------------------------ 12.5/32.8 MB 21.1 MB/s eta 0:00:01\n",
      "   ---------------- ----------------------- 13.9/32.8 MB 21.1 MB/s eta 0:00:01\n",
      "   ------------------ --------------------- 15.1/32.8 MB 21.9 MB/s eta 0:00:01\n",
      "   ------------------- -------------------- 16.2/32.8 MB 23.4 MB/s eta 0:00:01\n",
      "   --------------------- ------------------ 17.5/32.8 MB 21.8 MB/s eta 0:00:01\n",
      "   ---------------------- ----------------- 18.5/32.8 MB 22.6 MB/s eta 0:00:01\n",
      "   ----------------------- ---------------- 19.1/32.8 MB 22.6 MB/s eta 0:00:01\n",
      "   ------------------------ --------------- 20.0/32.8 MB 21.8 MB/s eta 0:00:01\n",
      "   --------------------------- ------------ 22.3/32.8 MB 24.2 MB/s eta 0:00:01\n",
      "   ---------------------------- ----------- 23.4/32.8 MB 24.2 MB/s eta 0:00:01\n",
      "   ----------------------------- ---------- 24.4/32.8 MB 24.2 MB/s eta 0:00:01\n",
      "   ------------------------------ --------- 25.3/32.8 MB 22.5 MB/s eta 0:00:01\n",
      "   ------------------------------- -------- 25.9/32.8 MB 19.8 MB/s eta 0:00:01\n",
      "   -------------------------------- ------- 26.4/32.8 MB 18.7 MB/s eta 0:00:01\n",
      "   ----------------------------------- ---- 29.4/32.8 MB 24.2 MB/s eta 0:00:01\n",
      "   ------------------------------------- -- 31.0/32.8 MB 26.2 MB/s eta 0:00:01\n",
      "   ---------------------------------------  32.0/32.8 MB 24.2 MB/s eta 0:00:01\n",
      "   ---------------------------------------  32.8/32.8 MB 23.4 MB/s eta 0:00:01\n",
      "   ---------------------------------------  32.8/32.8 MB 23.4 MB/s eta 0:00:01\n",
      "   ---------------------------------------  32.8/32.8 MB 23.4 MB/s eta 0:00:01\n",
      "   ---------------------------------------- 32.8/32.8 MB 16.8 MB/s eta 0:00:00\n",
      "Installing collected packages: SpeechRecognition\n",
      "Successfully installed SpeechRecognition-3.11.0\n"
     ]
    }
   ],
   "source": [
    "!pip install SpeechRecognition"
   ]
  },
  {
   "cell_type": "code",
   "execution_count": 2,
   "metadata": {
    "colab": {
     "base_uri": "https://localhost:8080/"
    },
    "id": "HQG44Ed20awm",
    "outputId": "dedfce1d-43b5-4078-ad80-6f91167a4a61"
   },
   "outputs": [
    {
     "name": "stdout",
     "output_type": "stream",
     "text": [
      "Collecting PyAudio\n",
      "  Downloading PyAudio-0.2.14-cp310-cp310-win_amd64.whl.metadata (2.7 kB)\n",
      "Downloading PyAudio-0.2.14-cp310-cp310-win_amd64.whl (164 kB)\n",
      "   ---------------------------------------- 0.0/164.1 kB ? eta -:--:--\n",
      "   ------- ------------------------------- 30.7/164.1 kB 660.6 kB/s eta 0:00:01\n",
      "   ----------------------------- ---------- 122.9/164.1 kB 1.4 MB/s eta 0:00:01\n",
      "   ---------------------------------------- 164.1/164.1 kB 1.4 MB/s eta 0:00:00\n",
      "Installing collected packages: PyAudio\n",
      "Successfully installed PyAudio-0.2.14\n"
     ]
    }
   ],
   "source": [
    "!pip install PyAudio"
   ]
  },
  {
   "cell_type": "code",
   "execution_count": 3,
   "metadata": {
    "id": "Gds24cuQz_EF"
   },
   "outputs": [],
   "source": [
    "import speech_recognition as sr"
   ]
  },
  {
   "cell_type": "code",
   "execution_count": 4,
   "metadata": {
    "id": "NuREtXpKzrvd"
   },
   "outputs": [],
   "source": [
    "duration = 5"
   ]
  },
  {
   "cell_type": "code",
   "execution_count": null,
   "metadata": {},
   "outputs": [
    {
     "name": "stdout",
     "output_type": "stream",
     "text": [
      "Say something:\n",
      "\n",
      "You said:\n",
      "if I can't then I'll just die but if I win I live Unless I fight I cannot win\n"
     ]
    }
   ],
   "source": [
    "r = sr.Recognizer()\n",
    "\n",
    "with sr.Microphone() as source :\n",
    "    print(\"Say something:\\n\\n\")\n",
    "    audio_data = r.listen(source,timeout = duration)\n",
    "\n",
    "try:\n",
    "    text = r.recognize_google(audio_data)\n",
    "    print(\"You said:\\n\", text)\n",
    "except sr.UnknownValueError:\n",
    "    print(\"Sorry, could not understand audio\")\n",
    "except sr.RequestError as e:\n",
    "    print(f'Error with the request to Google Speech Recognition service: {e}')\n",
    "except Exception as e:\n",
    "    print(f'Error: {e}')"
   ]
  }
 ],
 "metadata": {
  "colab": {
   "provenance": []
  },
  "kernelspec": {
   "display_name": "ML",
   "language": "python",
   "name": "python3"
  },
  "language_info": {
   "codemirror_mode": {
    "name": "ipython",
    "version": 3
   },
   "file_extension": ".py",
   "mimetype": "text/x-python",
   "name": "python",
   "nbconvert_exporter": "python",
   "pygments_lexer": "ipython3",
   "version": "3.10.13"
  }
 },
 "nbformat": 4,
 "nbformat_minor": 0
}
